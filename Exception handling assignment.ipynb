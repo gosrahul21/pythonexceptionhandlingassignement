{
 "cells": [
  {
   "cell_type": "markdown",
   "metadata": {},
   "source": [
    "## 1. Write a function to compute 5/0 and use try/except to catch the exceptions."
   ]
  },
  {
   "cell_type": "code",
   "execution_count": 13,
   "metadata": {},
   "outputs": [],
   "source": [
    "def divide(x,y):\n",
    "    try:\n",
    "        return x/y\n",
    "    except ZeroDivisionError:\n",
    "        print(\"Division by zero exception\")\n",
    "    except:\n",
    "        print(\"Error Occured\")"
   ]
  },
  {
   "cell_type": "code",
   "execution_count": 16,
   "metadata": {},
   "outputs": [
    {
     "name": "stdout",
     "output_type": "stream",
     "text": [
      "Division by zero exception\n"
     ]
    }
   ],
   "source": [
    "divide(5,0)"
   ]
  },
  {
   "cell_type": "markdown",
   "metadata": {},
   "source": [
    "## 2. Implement a Python program to generate all sentences where subject is in\n",
    "## [\"Americans\", \"Indians\"] and verb is in [\"Play\", \"watch\"] and the object is in\n",
    "## [\"Baseball\",\"cricket\"].\n",
    "<p>Hint: Subject,Verb and Object should be declared in the program as shown below.</p>\n",
    "<p>subjects=[\"Americans \",\"Indians\"]</p>\n",
    "<p>verbs=[\"play\",\"watch\"]</p>\n",
    "<p>objects=[\"Baseball\",\"Cricket\"]</p>\n",
    "### Output should come as below:\n",
    "<p>Americans play Baseball.</p>\n",
    "<p>Americans play Cricket.</p>\n",
    "<p>Americans watch Baseball.</p>\n",
    "<p>Americans watch Cricket.</p>\n",
    "<p>Indians play Baseball.</p>\n",
    "<p>Indians play Cricket.</p>\n",
    "<p>Indians watch Baseball.</p>\n",
    "<p>Indians watch Cricket.</p>"
   ]
  },
  {
   "cell_type": "code",
   "execution_count": 17,
   "metadata": {},
   "outputs": [
    {
     "name": "stdout",
     "output_type": "stream",
     "text": [
      "Americans play BaseBall\n",
      "Americans play Cricket\n",
      "Americans watch BaseBall\n",
      "Americans watch Cricket\n",
      "Indians play BaseBall\n",
      "Indians play Cricket\n",
      "Indians watch BaseBall\n",
      "Indians watch Cricket\n"
     ]
    }
   ],
   "source": [
    "subjects = ['Americans','Indians']\n",
    "verbs = ['play','watch']\n",
    "objects = ['BaseBall','Cricket']\n",
    "\n",
    "for sub in subjects:\n",
    "    for verb in verbs:\n",
    "        for obj in objects:\n",
    "            print(sub+\" \"+verb+\" \"+obj)"
   ]
  },
  {
   "cell_type": "code",
   "execution_count": null,
   "metadata": {},
   "outputs": [],
   "source": []
  }
 ],
 "metadata": {
  "kernelspec": {
   "display_name": "Python 3",
   "language": "python",
   "name": "python3"
  },
  "language_info": {
   "codemirror_mode": {
    "name": "ipython",
    "version": 3
   },
   "file_extension": ".py",
   "mimetype": "text/x-python",
   "name": "python",
   "nbconvert_exporter": "python",
   "pygments_lexer": "ipython3",
   "version": "3.6.5"
  }
 },
 "nbformat": 4,
 "nbformat_minor": 2
}
